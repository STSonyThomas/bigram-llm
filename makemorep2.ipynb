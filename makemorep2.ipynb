{
 "cells": [
  {
   "cell_type": "markdown",
   "id": "27734568-3f41-4c45-8735-618c17a2f171",
   "metadata": {},
   "source": [
    "## Makemore part 2 - The MLP approach"
   ]
  },
  {
   "cell_type": "code",
   "execution_count": 1,
   "id": "0e25a0c3-1761-4004-b4ec-6103f7908147",
   "metadata": {},
   "outputs": [],
   "source": [
    "import torch\n",
    "import torch.nn.functional as F\n",
    "import matplotlib.pyplot as plt #making figures\n",
    "import os\n",
    "os.environ[\"PYDEVD_DISABLE_FILE_VALIDATION\"] = \"1\"\n",
    "%matplotlib inline"
   ]
  },
  {
   "cell_type": "code",
   "execution_count": 2,
   "id": "e2929de7-40c5-460f-ae81-15525f4ad9f0",
   "metadata": {},
   "outputs": [
    {
     "data": {
      "text/plain": [
       "['emma', 'olivia', 'ava', 'isabella', 'sophia', 'charlotte', 'mia', 'amelia']"
      ]
     },
     "execution_count": 2,
     "metadata": {},
     "output_type": "execute_result"
    }
   ],
   "source": [
    "words = open('names.txt','r').read().splitlines()\n",
    "words[:8]"
   ]
  },
  {
   "cell_type": "code",
   "execution_count": 3,
   "id": "9568780e-9861-495d-af0b-7b98eb3b24b5",
   "metadata": {},
   "outputs": [
    {
     "data": {
      "text/plain": [
       "32033"
      ]
     },
     "execution_count": 3,
     "metadata": {},
     "output_type": "execute_result"
    }
   ],
   "source": [
    "len(words)"
   ]
  },
  {
   "cell_type": "code",
   "execution_count": 3,
   "id": "59c1f924-8701-44bf-97e1-3019e83a4450",
   "metadata": {},
   "outputs": [
    {
     "name": "stdout",
     "output_type": "stream",
     "text": [
      "{1: 'a', 2: 'b', 3: 'c', 4: 'd', 5: 'e', 6: 'f', 7: 'g', 8: 'h', 9: 'i', 10: 'j', 11: 'k', 12: 'l', 13: 'm', 14: 'n', 15: 'o', 16: 'p', 17: 'q', 18: 'r', 19: 's', 20: 't', 21: 'u', 22: 'v', 23: 'w', 24: 'x', 25: 'y', 26: 'z', 0: '.'}\n"
     ]
    }
   ],
   "source": [
    "chars = sorted(list(set(''.join(words))))\n",
    "stoi = {s:i+1 for i,s in enumerate(chars)}\n",
    "stoi['.']=0\n",
    "itos={i:s for s,i in stoi.items()}\n",
    "print(itos)"
   ]
  },
  {
   "cell_type": "code",
   "execution_count": 4,
   "id": "3df079cc-7e47-41ec-b7de-7122acfc7473",
   "metadata": {},
   "outputs": [
    {
     "name": "stdout",
     "output_type": "stream",
     "text": [
      "torch.Size([182625, 3])\n",
      "torch.Size([182625])\n",
      "torch.Size([22655, 3])\n",
      "torch.Size([22655])\n",
      "torch.Size([22866, 3])\n",
      "torch.Size([22866])\n"
     ]
    }
   ],
   "source": [
    "def build_dataset(words):\n",
    "    block_size = 3\n",
    "    X,Y=[],[]\n",
    "    for w in words:\n",
    "        # print(w)\n",
    "        context=[0]*block_size\n",
    "        for ch in w+'.':\n",
    "            ix = stoi[ch]\n",
    "            X.append(context)\n",
    "            Y.append(ix)\n",
    "            # print(''.join(itos[i] for i in context),'--->',itos[ix])\n",
    "            context= context[1:]+[ix]\n",
    "    X=torch.tensor(X)\n",
    "    Y=torch.tensor(Y)\n",
    "    print(X.shape)\n",
    "    print(Y.shape)\n",
    "    return X,Y\n",
    "import random\n",
    "random.seed(42)\n",
    "random.shuffle(words)\n",
    "n1=int(0.8*len(words))\n",
    "n2=int(0.9*len(words))\n",
    "Xtr,Ytr = build_dataset(words[:n1])\n",
    "Xdev,Ydev = build_dataset(words[n1:n2])\n",
    "Xte,Yte = build_dataset(words[n2:])"
   ]
  },
  {
   "cell_type": "code",
   "execution_count": 9,
   "id": "ac05f937-96fa-4a89-acec-7889161ac71d",
   "metadata": {},
   "outputs": [
    {
     "name": "stdout",
     "output_type": "stream",
     "text": [
      "tensor([ 5, 13, 13,  1,  0, 15, 12,  9, 22,  9,  1,  0,  1, 22,  1,  0,  9, 19,\n",
      "         1,  2,  5, 12, 12,  1,  0, 19, 15, 16,  8,  9,  1,  0])\n",
      "tensor([[ 0,  0,  0],\n",
      "        [ 0,  0,  5],\n",
      "        [ 0,  5, 13],\n",
      "        [ 5, 13, 13],\n",
      "        [13, 13,  1],\n",
      "        [ 0,  0,  0],\n",
      "        [ 0,  0, 15],\n",
      "        [ 0, 15, 12],\n",
      "        [15, 12,  9],\n",
      "        [12,  9, 22],\n",
      "        [ 9, 22,  9],\n",
      "        [22,  9,  1],\n",
      "        [ 0,  0,  0],\n",
      "        [ 0,  0,  1],\n",
      "        [ 0,  1, 22],\n",
      "        [ 1, 22,  1],\n",
      "        [ 0,  0,  0],\n",
      "        [ 0,  0,  9],\n",
      "        [ 0,  9, 19],\n",
      "        [ 9, 19,  1],\n",
      "        [19,  1,  2],\n",
      "        [ 1,  2,  5],\n",
      "        [ 2,  5, 12],\n",
      "        [ 5, 12, 12],\n",
      "        [12, 12,  1],\n",
      "        [ 0,  0,  0],\n",
      "        [ 0,  0, 19],\n",
      "        [ 0, 19, 15],\n",
      "        [19, 15, 16],\n",
      "        [15, 16,  8],\n",
      "        [16,  8,  9],\n",
      "        [ 8,  9,  1]])\n"
     ]
    }
   ],
   "source": [
    "print(Y)\n",
    "print(X)"
   ]
  },
  {
   "cell_type": "code",
   "execution_count": 6,
   "id": "67136bb7-1dc3-4ba1-80d6-8d775d7da436",
   "metadata": {},
   "outputs": [
    {
     "data": {
      "text/plain": [
       "(torch.Size([182625, 3]), torch.int64, torch.Size([182625]), torch.int64)"
      ]
     },
     "execution_count": 6,
     "metadata": {},
     "output_type": "execute_result"
    }
   ],
   "source": [
    "Xtr.shape, Xtr.dtype, Ytr.shape,Ytr.dtype"
   ]
  },
  {
   "cell_type": "markdown",
   "id": "52b9e0a3-6028-405d-ac5b-347e591a41c6",
   "metadata": {},
   "source": [
    "### Build a lookup table to convert the word/character embeddings to a lower dimensional space"
   ]
  },
  {
   "cell_type": "code",
   "execution_count": 5,
   "id": "4bae7784-49e9-4c83-b69b-69f4783cff79",
   "metadata": {},
   "outputs": [
    {
     "data": {
      "text/plain": [
       "tensor([[ 0.1853,  2.0442],\n",
       "        [-2.2210, -1.4347],\n",
       "        [-0.2618, -0.4687],\n",
       "        [-0.1642, -1.6523],\n",
       "        [ 0.4704,  0.9576],\n",
       "        [ 0.7279,  0.2522],\n",
       "        [-1.1569, -2.6933],\n",
       "        [-0.1143, -0.7349],\n",
       "        [-0.5709, -1.0384],\n",
       "        [-0.4363,  0.0311],\n",
       "        [-0.5392, -1.4578],\n",
       "        [-0.6646, -0.3867],\n",
       "        [-0.1427, -0.9355],\n",
       "        [ 0.4362,  1.4367],\n",
       "        [ 1.0341, -0.0276],\n",
       "        [ 1.7774,  0.1020],\n",
       "        [-1.5416,  0.0819],\n",
       "        [-0.3619, -0.5676],\n",
       "        [ 0.7219, -1.4790],\n",
       "        [ 1.0967,  0.8520],\n",
       "        [ 0.3112, -0.7312],\n",
       "        [ 0.6255,  0.9200],\n",
       "        [-1.0418, -0.8804],\n",
       "        [ 0.7915, -0.4984],\n",
       "        [-0.3284, -1.2649],\n",
       "        [ 0.8181, -0.6976],\n",
       "        [-0.4256, -1.0397]])"
      ]
     },
     "execution_count": 5,
     "metadata": {},
     "output_type": "execute_result"
    }
   ],
   "source": [
    "C= torch.randn(27,2)\n",
    "C"
   ]
  },
  {
   "cell_type": "code",
   "execution_count": 12,
   "id": "d6b6a862-086b-4dfb-8d71-0372442593cd",
   "metadata": {},
   "outputs": [
    {
     "data": {
      "text/plain": [
       "tensor([-0.2061, -1.3544])"
      ]
     },
     "execution_count": 12,
     "metadata": {},
     "output_type": "execute_result"
    }
   ],
   "source": [
    "C[5]"
   ]
  },
  {
   "cell_type": "code",
   "execution_count": 14,
   "id": "d97c6711-643f-44c3-8841-db3f2d1d5da3",
   "metadata": {},
   "outputs": [
    {
     "data": {
      "text/plain": [
       "torch.Size([32, 3, 2])"
      ]
     },
     "execution_count": 14,
     "metadata": {},
     "output_type": "execute_result"
    }
   ],
   "source": [
    "C[X].shape"
   ]
  },
  {
   "cell_type": "code",
   "execution_count": 15,
   "id": "f62d1eab-6a80-4960-b4e7-36b1cd2dda84",
   "metadata": {},
   "outputs": [
    {
     "data": {
      "text/plain": [
       "torch.Size([32, 3, 2])"
      ]
     },
     "execution_count": 15,
     "metadata": {},
     "output_type": "execute_result"
    }
   ],
   "source": [
    "emb = C[X]\n",
    "emb.shape"
   ]
  },
  {
   "cell_type": "code",
   "execution_count": 26,
   "id": "fec69ce4-8ba6-4793-9cb0-78d71110eaf9",
   "metadata": {},
   "outputs": [
    {
     "data": {
      "text/plain": [
       "tensor([[-0.3021,  0.9807, -0.9998,  ...,  0.9586,  0.9305,  0.9858],\n",
       "        [-0.9975,  0.9923, -0.6781,  ..., -0.8979, -0.3534,  0.9946],\n",
       "        [-0.8841,  0.7922,  0.9264,  ..., -0.9022,  0.9161, -0.3211],\n",
       "        ...,\n",
       "        [-0.7323,  0.6123, -0.9952,  ...,  0.8857,  0.6630,  0.9726],\n",
       "        [-0.6556,  0.9586, -0.3558,  ..., -0.8700,  0.4578,  0.9717],\n",
       "        [ 0.1012, -0.9946, -0.0776,  ..., -0.4066,  0.9988,  0.1133]])"
      ]
     },
     "execution_count": 26,
     "metadata": {},
     "output_type": "execute_result"
    }
   ],
   "source": [
    "#hidden states that I am after are\n",
    "\n",
    "emb.view(emb.shape[0],6) @ W1 + b1\n",
    "h=torch.tanh(emb.view(-1,6) @ W1 + b1)\n",
    "h"
   ]
  },
  {
   "cell_type": "code",
   "execution_count": 27,
   "id": "3feff4b8-eace-497b-863b-72fd559b8cd3",
   "metadata": {},
   "outputs": [],
   "source": [
    "W2=torch.randn(100,27)\n",
    "b2 = torch.randn(27)"
   ]
  },
  {
   "cell_type": "code",
   "execution_count": 28,
   "id": "efce9516-ee5b-41f7-89c6-164c94b12c61",
   "metadata": {},
   "outputs": [],
   "source": [
    "logits = h @ W2 + b2"
   ]
  },
  {
   "cell_type": "code",
   "execution_count": 29,
   "id": "a517a11a-2a59-4a83-b554-d656ee1a4d5e",
   "metadata": {},
   "outputs": [
    {
     "data": {
      "text/plain": [
       "torch.Size([32, 27])"
      ]
     },
     "execution_count": 29,
     "metadata": {},
     "output_type": "execute_result"
    }
   ],
   "source": [
    "logits.shape"
   ]
  },
  {
   "cell_type": "code",
   "execution_count": 30,
   "id": "c4d6b0c0-892c-4a81-bc0c-c21fb6419a34",
   "metadata": {},
   "outputs": [],
   "source": [
    "counts = logits.exp() #fake counts\n"
   ]
  },
  {
   "cell_type": "code",
   "execution_count": 31,
   "id": "c003d85f-47f8-4a96-b97c-5a761b9570c5",
   "metadata": {},
   "outputs": [],
   "source": [
    "prob = counts/counts.sum(1,keepdims=True)"
   ]
  },
  {
   "cell_type": "code",
   "execution_count": 32,
   "id": "12915772-cef2-46b6-b140-7c5cc537ad43",
   "metadata": {},
   "outputs": [
    {
     "data": {
      "text/plain": [
       "torch.Size([32, 27])"
      ]
     },
     "execution_count": 32,
     "metadata": {},
     "output_type": "execute_result"
    }
   ],
   "source": [
    "prob.shape"
   ]
  },
  {
   "cell_type": "code",
   "execution_count": 33,
   "id": "23a5789f-682e-4aa7-be87-f9043f92a42e",
   "metadata": {},
   "outputs": [
    {
     "data": {
      "text/plain": [
       "tensor([[1.1240e-15, 9.5952e-04, 2.4632e-10, 6.5338e-10, 1.3744e-04, 1.3769e-14,\n",
       "         3.2445e-06, 2.7678e-13, 1.4844e-06, 4.2156e-18, 1.2146e-06, 1.3060e-11,\n",
       "         3.3349e-02, 3.9706e-11, 3.9451e-09, 2.1080e-04, 3.5055e-11, 4.1749e-13,\n",
       "         9.6556e-09, 1.7373e-12, 2.0957e-12, 2.1959e-13, 9.6534e-01, 6.5453e-09,\n",
       "         6.7369e-12, 2.5113e-07, 1.1458e-15],\n",
       "        [1.9409e-13, 4.3152e-09, 6.8587e-07, 2.0599e-06, 5.0313e-01, 1.7431e-04,\n",
       "         3.5337e-03, 1.6093e-07, 1.0243e-04, 1.6652e-11, 4.0268e-10, 2.9417e-08,\n",
       "         9.9242e-07, 7.3766e-08, 2.7325e-09, 3.4346e-01, 3.6244e-11, 1.0184e-08,\n",
       "         1.3704e-02, 4.2032e-03, 1.6008e-09, 1.9307e-13, 1.3135e-01, 1.9982e-11,\n",
       "         1.8779e-10, 9.4298e-05, 2.4022e-04],\n",
       "        [2.6704e-02, 9.9783e-12, 7.8343e-02, 1.3473e-04, 4.7915e-06, 2.0879e-13,\n",
       "         5.6385e-09, 1.6183e-01, 3.5342e-03, 6.1747e-01, 1.7424e-08, 8.4651e-05,\n",
       "         1.3570e-05, 1.9060e-08, 3.0860e-09, 7.1203e-02, 4.4550e-14, 3.8887e-04,\n",
       "         1.2570e-04, 1.3980e-06, 1.7730e-09, 5.9090e-08, 3.7339e-07, 3.0583e-02,\n",
       "         9.5785e-03, 5.8469e-09, 2.3820e-07],\n",
       "        [9.4302e-04, 1.3020e-12, 2.4029e-06, 1.8601e-06, 4.6308e-13, 3.5730e-07,\n",
       "         9.0855e-13, 2.7683e-04, 1.4094e-05, 9.0852e-01, 4.6221e-07, 9.5411e-04,\n",
       "         5.8481e-16, 1.1173e-04, 2.7312e-10, 4.1780e-03, 9.4315e-08, 8.6525e-07,\n",
       "         2.1867e-08, 1.0938e-12, 1.6189e-05, 3.0303e-07, 1.5907e-13, 3.7735e-07,\n",
       "         8.4026e-02, 5.5268e-09, 9.5376e-04],\n",
       "        [1.2300e-09, 9.9463e-09, 5.3716e-10, 1.3863e-08, 1.1012e-14, 1.3184e-08,\n",
       "         1.8346e-11, 1.5736e-07, 3.3790e-11, 3.2686e-03, 9.7394e-08, 9.8443e-01,\n",
       "         1.2488e-11, 2.3212e-11, 1.1444e-10, 3.2156e-06, 1.2146e-04, 1.1020e-05,\n",
       "         1.7029e-12, 2.1136e-16, 7.1408e-07, 1.5730e-05, 5.3377e-14, 2.2163e-10,\n",
       "         1.2154e-02, 9.0095e-09, 1.9851e-07],\n",
       "        [1.1240e-15, 9.5952e-04, 2.4632e-10, 6.5338e-10, 1.3744e-04, 1.3769e-14,\n",
       "         3.2445e-06, 2.7678e-13, 1.4844e-06, 4.2156e-18, 1.2146e-06, 1.3060e-11,\n",
       "         3.3349e-02, 3.9706e-11, 3.9451e-09, 2.1080e-04, 3.5055e-11, 4.1749e-13,\n",
       "         9.6556e-09, 1.7373e-12, 2.0957e-12, 2.1959e-13, 9.6534e-01, 6.5453e-09,\n",
       "         6.7369e-12, 2.5113e-07, 1.1458e-15],\n",
       "        [1.8771e-11, 5.5955e-06, 1.9269e-09, 1.8739e-08, 5.5224e-05, 9.2829e-12,\n",
       "         7.0030e-04, 1.6818e-11, 3.8432e-03, 4.7692e-16, 7.2169e-09, 4.1974e-11,\n",
       "         1.2997e-05, 1.4119e-07, 5.0658e-08, 7.1232e-03, 1.7239e-13, 1.4813e-12,\n",
       "         4.3184e-05, 2.5238e-06, 2.4363e-12, 1.1308e-11, 9.8821e-01, 1.7270e-10,\n",
       "         2.8794e-10, 3.4148e-06, 2.8843e-13],\n",
       "        [1.5342e-07, 1.0135e-10, 2.4751e-05, 2.1164e-06, 1.0035e-09, 1.1592e-11,\n",
       "         1.1029e-07, 3.5018e-08, 4.1725e-10, 2.6291e-02, 3.2691e-12, 1.3568e-11,\n",
       "         3.6627e-17, 2.1520e-03, 2.4361e-07, 9.6350e-06, 6.6629e-14, 8.6191e-12,\n",
       "         9.7064e-01, 5.6377e-04, 1.5183e-12, 1.7405e-10, 3.1589e-08, 1.0098e-11,\n",
       "         3.1741e-04, 2.5561e-09, 1.3655e-10],\n",
       "        [1.3918e-09, 5.7513e-15, 5.6687e-03, 1.0278e-06, 4.9724e-14, 2.4438e-07,\n",
       "         3.3491e-09, 2.6643e-04, 6.7307e-06, 1.5129e-01, 1.1742e-06, 3.4829e-01,\n",
       "         2.6548e-11, 3.1676e-06, 4.0162e-09, 1.3092e-01, 1.5187e-05, 6.6683e-10,\n",
       "         4.6157e-08, 7.6471e-11, 6.2159e-04, 5.0040e-08, 6.4798e-14, 7.2115e-05,\n",
       "         2.9891e-01, 7.6212e-04, 6.3169e-02],\n",
       "        [1.1837e-07, 3.8247e-11, 1.9017e-11, 5.0989e-08, 4.9307e-15, 8.7458e-09,\n",
       "         1.3454e-11, 1.4581e-12, 1.5035e-11, 4.4358e-02, 3.9631e-08, 9.5560e-01,\n",
       "         2.1194e-07, 8.5731e-08, 1.0339e-12, 8.3682e-08, 4.9594e-06, 3.6023e-05,\n",
       "         2.4097e-13, 1.1642e-10, 6.2679e-10, 2.1892e-07, 5.9202e-14, 2.5845e-15,\n",
       "         3.6702e-06, 1.3260e-12, 1.0801e-07],\n",
       "        [3.3172e-11, 2.3393e-12, 1.5682e-17, 2.8609e-08, 1.2863e-05, 5.4003e-06,\n",
       "         2.4424e-10, 5.5754e-13, 5.7657e-12, 1.4894e-06, 4.7673e-11, 1.3526e-08,\n",
       "         9.9480e-14, 4.9096e-07, 2.0042e-14, 9.9992e-01, 3.5353e-12, 6.3060e-05,\n",
       "         1.2933e-09, 2.4619e-09, 9.5004e-16, 4.1912e-20, 7.9675e-15, 4.0841e-13,\n",
       "         4.0423e-16, 3.8691e-11, 6.0666e-07],\n",
       "        [2.9105e-10, 7.2359e-11, 6.8504e-02, 5.3289e-09, 2.5065e-06, 7.8485e-10,\n",
       "         5.4736e-07, 6.6454e-01, 1.8276e-05, 3.4362e-06, 3.0957e-05, 9.5280e-04,\n",
       "         2.3855e-01, 2.3527e-11, 1.3671e-09, 1.5455e-02, 1.6263e-08, 2.2496e-06,\n",
       "         5.9907e-08, 9.6963e-15, 1.5146e-06, 4.8997e-08, 4.4619e-07, 1.1551e-02,\n",
       "         9.1019e-06, 2.2862e-09, 3.7710e-04],\n",
       "        [1.1240e-15, 9.5952e-04, 2.4632e-10, 6.5338e-10, 1.3744e-04, 1.3769e-14,\n",
       "         3.2445e-06, 2.7678e-13, 1.4844e-06, 4.2156e-18, 1.2146e-06, 1.3060e-11,\n",
       "         3.3349e-02, 3.9706e-11, 3.9451e-09, 2.1080e-04, 3.5055e-11, 4.1749e-13,\n",
       "         9.6556e-09, 1.7373e-12, 2.0957e-12, 2.1959e-13, 9.6534e-01, 6.5453e-09,\n",
       "         6.7369e-12, 2.5113e-07, 1.1458e-15],\n",
       "        [8.4717e-15, 2.2017e-06, 4.0207e-09, 8.4934e-09, 2.3898e-03, 2.8106e-09,\n",
       "         2.7129e-03, 2.1766e-10, 9.7372e-05, 2.5428e-17, 4.8376e-08, 7.9128e-09,\n",
       "         6.0144e-02, 3.9029e-09, 2.0844e-09, 4.6081e-03, 2.0062e-11, 3.9924e-11,\n",
       "         3.5176e-07, 3.2046e-08, 2.8703e-11, 5.4393e-13, 9.2999e-01, 8.6845e-10,\n",
       "         2.4796e-12, 5.0144e-05, 8.3484e-11],\n",
       "        [1.6342e-15, 5.6517e-08, 2.7663e-07, 1.6947e-09, 3.7432e-04, 3.3258e-13,\n",
       "         1.7513e-08, 2.3269e-09, 1.3153e-08, 1.3884e-13, 2.3120e-07, 4.5505e-09,\n",
       "         9.4931e-01, 7.6080e-09, 3.0290e-11, 8.4238e-05, 1.0228e-11, 1.7453e-11,\n",
       "         1.3763e-09, 3.2270e-14, 6.8802e-11, 1.7201e-13, 5.0234e-02, 1.7696e-10,\n",
       "         6.1350e-13, 4.2830e-10, 2.1550e-11],\n",
       "        [6.4314e-14, 2.9192e-06, 1.4312e-12, 3.2808e-07, 8.9897e-01, 3.2439e-08,\n",
       "         3.4626e-08, 1.2252e-10, 2.3795e-07, 3.6750e-12, 2.7372e-08, 8.2431e-07,\n",
       "         5.7918e-06, 2.4913e-10, 4.2021e-13, 1.0101e-01, 2.2560e-13, 1.9771e-08,\n",
       "         8.8975e-06, 3.2563e-11, 8.7642e-14, 5.8955e-14, 3.8749e-07, 1.9224e-11,\n",
       "         4.3125e-13, 2.5281e-09, 9.5703e-08],\n",
       "        [1.1240e-15, 9.5952e-04, 2.4632e-10, 6.5338e-10, 1.3744e-04, 1.3769e-14,\n",
       "         3.2445e-06, 2.7678e-13, 1.4844e-06, 4.2156e-18, 1.2146e-06, 1.3060e-11,\n",
       "         3.3349e-02, 3.9706e-11, 3.9451e-09, 2.1080e-04, 3.5055e-11, 4.1749e-13,\n",
       "         9.6556e-09, 1.7373e-12, 2.0957e-12, 2.1959e-13, 9.6534e-01, 6.5453e-09,\n",
       "         6.7369e-12, 2.5113e-07, 1.1458e-15],\n",
       "        [5.8205e-13, 5.6832e-09, 5.9362e-07, 2.1340e-06, 3.5049e-01, 2.1604e-04,\n",
       "         3.4511e-03, 1.1526e-07, 4.4549e-04, 2.0024e-11, 4.1770e-10, 1.6045e-08,\n",
       "         8.2517e-07, 1.2421e-07, 3.3914e-09, 4.0602e-01, 2.4692e-11, 6.0271e-09,\n",
       "         4.4380e-02, 1.1796e-02, 1.7100e-09, 2.3934e-13, 1.8298e-01, 1.3399e-11,\n",
       "         3.2462e-10, 1.3092e-04, 7.8273e-05],\n",
       "        [6.5395e-12, 3.1599e-10, 9.5690e-03, 3.4246e-08, 5.7817e-09, 1.2968e-13,\n",
       "         3.1132e-09, 1.1709e-04, 7.5547e-08, 1.2208e-08, 8.7440e-05, 1.5135e-05,\n",
       "         9.8983e-01, 3.1664e-12, 1.7993e-09, 3.6280e-04, 1.8787e-07, 3.2882e-10,\n",
       "         1.0946e-10, 1.3412e-15, 1.2429e-07, 2.7514e-09, 1.8522e-05, 1.4533e-06,\n",
       "         2.5879e-08, 5.5460e-08, 2.2172e-10],\n",
       "        [4.0257e-16, 1.7832e-10, 9.8043e-18, 9.1598e-10, 9.1419e-05, 6.5219e-07,\n",
       "         3.4967e-10, 1.0996e-16, 6.3756e-11, 9.2407e-15, 1.1008e-10, 6.8437e-06,\n",
       "         1.7737e-11, 5.2988e-11, 3.2452e-15, 9.9990e-01, 1.6717e-14, 4.3832e-07,\n",
       "         8.3324e-13, 3.7034e-10, 2.1938e-16, 1.9511e-17, 2.0940e-14, 5.8705e-14,\n",
       "         2.3657e-18, 1.1826e-13, 1.0902e-09],\n",
       "        [4.0810e-07, 1.6590e-05, 2.2435e-06, 7.5337e-06, 1.8363e-03, 1.4656e-09,\n",
       "         1.5136e-06, 4.5224e-07, 6.1470e-03, 7.6660e-09, 1.7976e-06, 1.9716e-09,\n",
       "         8.7973e-07, 4.0500e-06, 1.2741e-09, 5.3581e-02, 9.3711e-13, 2.8996e-09,\n",
       "         8.6718e-01, 3.2368e-06, 6.4156e-11, 1.0557e-08, 7.1048e-02, 4.4052e-07,\n",
       "         1.6763e-04, 1.6213e-09, 2.1541e-11],\n",
       "        [3.0749e-14, 5.8150e-13, 3.0918e-06, 1.3448e-08, 3.6629e-09, 5.9524e-08,\n",
       "         3.0905e-07, 1.7453e-06, 3.9320e-08, 8.7526e-10, 3.0031e-09, 4.7481e-06,\n",
       "         4.1531e-13, 5.6097e-10, 8.4742e-09, 9.9710e-01, 4.1737e-11, 6.1143e-10,\n",
       "         1.5622e-07, 1.0452e-11, 2.9339e-08, 9.1709e-15, 4.0824e-09, 5.5578e-12,\n",
       "         4.8613e-09, 2.0187e-05, 2.8738e-03],\n",
       "        [3.2567e-04, 1.3922e-14, 3.9975e-04, 7.0477e-07, 2.1409e-13, 3.8458e-13,\n",
       "         4.0032e-11, 9.6564e-10, 3.0667e-09, 9.8119e-01, 1.4011e-09, 4.9810e-10,\n",
       "         7.9888e-15, 1.6587e-02, 2.4365e-10, 5.2154e-07, 1.3276e-11, 9.6363e-13,\n",
       "         2.7571e-11, 1.0819e-07, 1.2611e-09, 5.2291e-04, 1.8936e-14, 8.4222e-08,\n",
       "         9.7626e-04, 1.2807e-10, 1.6900e-09],\n",
       "        [9.3765e-06, 1.3561e-12, 1.7134e-02, 3.6538e-06, 1.0398e-13, 1.0961e-07,\n",
       "         2.1548e-09, 1.7973e-08, 1.3461e-08, 8.7227e-01, 1.1308e-06, 1.9251e-07,\n",
       "         8.0536e-20, 9.8280e-05, 2.7637e-10, 1.0864e-06, 1.3528e-06, 6.1510e-10,\n",
       "         1.7828e-07, 4.2625e-11, 5.1918e-05, 2.8495e-06, 3.8879e-16, 4.2457e-07,\n",
       "         1.1037e-01, 1.1134e-09, 5.0986e-05],\n",
       "        [4.7919e-11, 8.2493e-08, 7.9074e-06, 2.3197e-06, 2.2348e-15, 5.5353e-07,\n",
       "         2.2271e-07, 5.4126e-09, 1.6713e-15, 3.6529e-02, 2.8743e-05, 5.5115e-01,\n",
       "         6.1496e-13, 1.3087e-07, 5.5017e-08, 1.2257e-06, 4.4083e-02, 8.0550e-07,\n",
       "         2.4272e-10, 7.9073e-11, 1.0271e-04, 9.4872e-08, 4.7798e-17, 6.1758e-11,\n",
       "         3.6745e-01, 6.1715e-04, 2.1146e-05],\n",
       "        [1.1240e-15, 9.5952e-04, 2.4632e-10, 6.5338e-10, 1.3744e-04, 1.3769e-14,\n",
       "         3.2445e-06, 2.7678e-13, 1.4844e-06, 4.2156e-18, 1.2146e-06, 1.3060e-11,\n",
       "         3.3349e-02, 3.9706e-11, 3.9451e-09, 2.1080e-04, 3.5055e-11, 4.1749e-13,\n",
       "         9.6556e-09, 1.7373e-12, 2.0957e-12, 2.1959e-13, 9.6534e-01, 6.5453e-09,\n",
       "         6.7369e-12, 2.5113e-07, 1.1458e-15],\n",
       "        [1.0328e-16, 1.3732e-04, 7.6721e-10, 1.1504e-10, 3.7038e-05, 3.9295e-13,\n",
       "         9.7853e-07, 3.8120e-13, 7.0982e-06, 5.0964e-17, 6.6777e-07, 2.4336e-10,\n",
       "         9.1821e-01, 4.7613e-12, 1.3875e-09, 3.1857e-04, 9.1566e-10, 2.1118e-11,\n",
       "         3.5050e-10, 1.4169e-11, 2.5208e-11, 2.9674e-14, 8.1285e-02, 2.5182e-09,\n",
       "         2.1270e-13, 6.8549e-07, 1.1888e-13],\n",
       "        [2.3902e-09, 7.0863e-05, 7.9626e-10, 2.5307e-07, 7.3259e-03, 3.4909e-10,\n",
       "         5.7924e-06, 2.8399e-11, 1.2720e-05, 1.2954e-14, 1.4057e-08, 1.0992e-11,\n",
       "         4.8860e-04, 1.0542e-06, 1.4925e-09, 4.8811e-03, 1.5476e-15, 3.4556e-11,\n",
       "         1.6073e-04, 3.2792e-07, 3.9119e-13, 8.5444e-11, 9.8705e-01, 9.3796e-11,\n",
       "         1.4060e-11, 4.9988e-09, 4.5570e-13],\n",
       "        [2.0471e-12, 2.7261e-07, 7.6335e-04, 1.8211e-05, 8.8396e-04, 1.1310e-10,\n",
       "         1.2686e-03, 6.3633e-09, 6.9873e-06, 1.6077e-10, 2.7628e-04, 6.4883e-09,\n",
       "         5.4884e-01, 3.1240e-10, 1.3508e-06, 2.1325e-01, 1.5035e-10, 2.7369e-12,\n",
       "         1.4532e-03, 6.4311e-13, 8.8937e-08, 2.1944e-09, 2.3040e-01, 2.8360e-03,\n",
       "         2.8352e-08, 2.7176e-07, 4.8699e-13],\n",
       "        [1.3355e-09, 5.8183e-03, 3.7136e-10, 2.3067e-06, 3.6314e-06, 6.3539e-07,\n",
       "         3.2261e-01, 1.7068e-15, 3.4176e-07, 5.5494e-11, 2.1533e-07, 6.5315e-10,\n",
       "         9.6703e-08, 1.1182e-05, 1.8565e-07, 6.6663e-01, 2.3933e-08, 1.2634e-09,\n",
       "         7.8560e-06, 6.2619e-05, 7.0969e-11, 1.8532e-09, 4.8275e-03, 7.3187e-11,\n",
       "         1.1141e-08, 2.4067e-05, 9.9863e-11],\n",
       "        [3.5638e-13, 2.7208e-09, 1.6111e-04, 7.7883e-05, 3.5425e-04, 2.4389e-08,\n",
       "         2.1537e-04, 3.1632e-03, 2.1943e-05, 5.5920e-08, 6.3961e-11, 3.0489e-06,\n",
       "         3.9786e-08, 5.1388e-06, 1.2337e-07, 9.2916e-01, 1.0669e-10, 1.8561e-07,\n",
       "         8.1694e-04, 3.9171e-06, 1.3433e-08, 4.6648e-13, 5.0181e-02, 2.4963e-09,\n",
       "         3.0937e-06, 2.3324e-03, 1.3498e-02],\n",
       "        [2.5407e-15, 5.9388e-12, 1.5938e-06, 5.5834e-11, 1.4470e-10, 2.6668e-13,\n",
       "         7.8060e-12, 6.6991e-07, 3.0023e-12, 7.8601e-10, 1.1895e-08, 9.9999e-01,\n",
       "         3.4132e-06, 2.3150e-11, 1.5779e-12, 5.1915e-08, 5.1712e-10, 1.0436e-09,\n",
       "         6.9253e-13, 5.6970e-14, 6.6900e-12, 3.7444e-12, 1.3632e-09, 2.7117e-10,\n",
       "         4.2717e-07, 2.0710e-11, 6.8306e-08]])"
      ]
     },
     "execution_count": 33,
     "metadata": {},
     "output_type": "execute_result"
    }
   ],
   "source": [
    "prob"
   ]
  },
  {
   "cell_type": "code",
   "execution_count": 35,
   "id": "64528565-96ab-4728-b4e8-a38a96d1beae",
   "metadata": {},
   "outputs": [
    {
     "data": {
      "text/plain": [
       "tensor(20.9248)"
      ]
     },
     "execution_count": 35,
     "metadata": {},
     "output_type": "execute_result"
    }
   ],
   "source": [
    "loss =-prob[torch.arange(32),Y].log().mean()\n",
    "loss"
   ]
  },
  {
   "cell_type": "markdown",
   "id": "e3ac0c80-1712-45d2-be32-30dbec8213c3",
   "metadata": {},
   "source": [
    "### More structured code below"
   ]
  },
  {
   "cell_type": "code",
   "execution_count": 79,
   "id": "a9f1c02c-e989-4e02-a831-8b9d5251b0d2",
   "metadata": {},
   "outputs": [],
   "source": [
    "g= torch.Generator().manual_seed(2147483647)\n",
    "C=torch.randn((27,10),generator=g)\n",
    "emb = C[Xtr]\n",
    "W1 = torch.randn((30,200),generator=g)\n",
    "b1 = torch.randn(200,generator=g)\n",
    "W2 = torch.randn((200,27),generator=g)\n",
    "b2= torch.randn(27,generator=g)\n",
    "parameters=[C,W1,b1,W2,b2]"
   ]
  },
  {
   "cell_type": "code",
   "execution_count": 7,
   "id": "f0e30842-d996-4f5c-8766-5f8d9532e9c5",
   "metadata": {},
   "outputs": [
    {
     "ename": "NameError",
     "evalue": "name 'Y' is not defined",
     "output_type": "error",
     "traceback": [
      "\u001b[1;31m---------------------------------------------------------------------------\u001b[0m",
      "\u001b[1;31mNameError\u001b[0m                                 Traceback (most recent call last)",
      "Cell \u001b[1;32mIn[7], line 5\u001b[0m\n\u001b[0;32m      3\u001b[0m counts \u001b[38;5;241m=\u001b[39m logits\u001b[38;5;241m.\u001b[39mexp()\n\u001b[0;32m      4\u001b[0m prob \u001b[38;5;241m=\u001b[39m counts\u001b[38;5;241m/\u001b[39mcounts\u001b[38;5;241m.\u001b[39msum(\u001b[38;5;241m1\u001b[39m,keepdim\u001b[38;5;241m=\u001b[39m\u001b[38;5;28;01mTrue\u001b[39;00m)\n\u001b[1;32m----> 5\u001b[0m loss \u001b[38;5;241m=\u001b[39m \u001b[38;5;241m-\u001b[39m prob[torch\u001b[38;5;241m.\u001b[39marange(\u001b[38;5;241m32\u001b[39m),\u001b[43mY\u001b[49m]\u001b[38;5;241m.\u001b[39mlog()\u001b[38;5;241m.\u001b[39mmean()\n\u001b[0;32m      6\u001b[0m loss\n",
      "\u001b[1;31mNameError\u001b[0m: name 'Y' is not defined"
     ]
    }
   ],
   "source": [
    "h=torch.tanh(emb.view(-1,6) @ W1 + b1)\n",
    "logits = h @W2 +b2\n",
    "counts = logits.exp()\n",
    "prob = counts/counts.sum(1,keepdim=True)\n",
    "loss = - prob[torch.arange(32),Y].log().mean()\n",
    "loss"
   ]
  },
  {
   "cell_type": "code",
   "execution_count": 121,
   "id": "950d8d44-0e54-4424-9ef0-c07c94ee9b19",
   "metadata": {},
   "outputs": [
    {
     "ename": "ValueError",
     "evalue": "Expected input batch_size (228146) to match target batch_size (182580).",
     "output_type": "error",
     "traceback": [
      "\u001b[1;31m---------------------------------------------------------------------------\u001b[0m",
      "\u001b[1;31mValueError\u001b[0m                                Traceback (most recent call last)",
      "Cell \u001b[1;32mIn[121], line 8\u001b[0m\n\u001b[0;32m      1\u001b[0m \u001b[38;5;124;03m'''\u001b[39;00m\n\u001b[0;32m      2\u001b[0m \u001b[38;5;124;03mThe above is callled the cross entropy function we can use that from torch\u001b[39;00m\n\u001b[0;32m      3\u001b[0m \u001b[38;5;124;03mwhy?\u001b[39;00m\n\u001b[1;32m   (...)\u001b[0m\n\u001b[0;32m      6\u001b[0m \u001b[38;5;124;03mBecause the computation is memory efficient because a fused kernel is used instead of ind. kernels\u001b[39;00m\n\u001b[0;32m      7\u001b[0m \u001b[38;5;124;03m'''\u001b[39;00m\n\u001b[1;32m----> 8\u001b[0m loss \u001b[38;5;241m=\u001b[39m F\u001b[38;5;241m.\u001b[39mcross_entropy(logits,Ytr)\n\u001b[0;32m      9\u001b[0m loss\n",
      "File \u001b[1;32m~\\anaconda3\\Lib\\site-packages\\torch\\nn\\functional.py:3104\u001b[0m, in \u001b[0;36mcross_entropy\u001b[1;34m(input, target, weight, size_average, ignore_index, reduce, reduction, label_smoothing)\u001b[0m\n\u001b[0;32m   3102\u001b[0m \u001b[38;5;28;01mif\u001b[39;00m size_average \u001b[38;5;129;01mis\u001b[39;00m \u001b[38;5;129;01mnot\u001b[39;00m \u001b[38;5;28;01mNone\u001b[39;00m \u001b[38;5;129;01mor\u001b[39;00m reduce \u001b[38;5;129;01mis\u001b[39;00m \u001b[38;5;129;01mnot\u001b[39;00m \u001b[38;5;28;01mNone\u001b[39;00m:\n\u001b[0;32m   3103\u001b[0m     reduction \u001b[38;5;241m=\u001b[39m _Reduction\u001b[38;5;241m.\u001b[39mlegacy_get_string(size_average, reduce)\n\u001b[1;32m-> 3104\u001b[0m \u001b[38;5;28;01mreturn\u001b[39;00m torch\u001b[38;5;241m.\u001b[39m_C\u001b[38;5;241m.\u001b[39m_nn\u001b[38;5;241m.\u001b[39mcross_entropy_loss(\u001b[38;5;28minput\u001b[39m, target, weight, _Reduction\u001b[38;5;241m.\u001b[39mget_enum(reduction), ignore_index, label_smoothing)\n",
      "\u001b[1;31mValueError\u001b[0m: Expected input batch_size (228146) to match target batch_size (182580)."
     ]
    }
   ],
   "source": [
    "'''\n",
    "The above is callled the cross entropy function we can use that from torch\n",
    "why?\n",
    "Because it has a better backward gradient\n",
    "Because it has e better value representation for logits where the max of the logits are subtracted\n",
    "Because the computation is memory efficient because a fused kernel is used instead of ind. kernels\n",
    "'''\n",
    "loss = F.cross_entropy(logits,Ytr)\n",
    "loss"
   ]
  },
  {
   "cell_type": "code",
   "execution_count": 80,
   "id": "5f81e15c-d91e-4cde-ab75-e8f8041c0848",
   "metadata": {},
   "outputs": [
    {
     "data": {
      "text/plain": [
       "11897"
      ]
     },
     "execution_count": 80,
     "metadata": {},
     "output_type": "execute_result"
    }
   ],
   "source": [
    "sum(p.nelement() for p in parameters)"
   ]
  },
  {
   "cell_type": "code",
   "execution_count": 81,
   "id": "c53110cf-be25-49f8-b44a-9593860d0a98",
   "metadata": {},
   "outputs": [],
   "source": [
    "for p in parameters:\n",
    "    p.requires_grad =True"
   ]
  },
  {
   "cell_type": "code",
   "execution_count": 82,
   "id": "1bdcbb34-7f6c-428d-9834-e88827515e47",
   "metadata": {},
   "outputs": [],
   "source": [
    "lre= torch.linspace(-3,0,1000)\n",
    "lrs = 10**lre"
   ]
  },
  {
   "cell_type": "code",
   "execution_count": 83,
   "id": "f5702764-0c57-4a2e-9d09-15bcb94dbd14",
   "metadata": {},
   "outputs": [],
   "source": [
    "lri=[]\n",
    "lossi=[]\n",
    "stepi=[]"
   ]
  },
  {
   "cell_type": "code",
   "execution_count": 84,
   "id": "c743317e-dd81-40b1-b721-544178f3817c",
   "metadata": {},
   "outputs": [
    {
     "name": "stdout",
     "output_type": "stream",
     "text": [
      "2.6287553310394287\n"
     ]
    }
   ],
   "source": [
    "#forward pass\n",
    "\n",
    "for i in range(200000):\n",
    "    #minibatch construxct\n",
    "    ix=torch.randint(1,Xtr.shape[0],(32,))\n",
    "    emb = C[Xtr[ix]]\n",
    "    h = torch.tanh(emb.view((-1,30))@W1+b1)\n",
    "    logits = h @ W2 +b2\n",
    "    loss = F.cross_entropy(logits,Ytr[ix])\n",
    "    \n",
    "    #backward pass\n",
    "    for p in parameters:\n",
    "        p.grad= None\n",
    "    loss.backward()\n",
    "    #update\n",
    "    lr=0.1 if i<=100000 else 0.01\n",
    "    for p in parameters:\n",
    "        p.data += -lr * p.grad\n",
    "        # p.grad+= 0.01*p.grad\n",
    "    #update stats\n",
    "    # lri.append(lre[i])\n",
    "    stepi.append(i)\n",
    "    lossi.append(loss.log10().item())\n",
    "print(loss.item()) "
   ]
  },
  {
   "cell_type": "code",
   "execution_count": 85,
   "id": "44e38755-3517-4402-a890-a751d553ec18",
   "metadata": {},
   "outputs": [
    {
     "data": {
      "text/plain": [
       "[<matplotlib.lines.Line2D at 0x2240dee8dc0>]"
      ]
     },
     "execution_count": 85,
     "metadata": {},
     "output_type": "execute_result"
    },
    {
     "data": {
      "image/png": "[encoded data removed]",
      "text/plain": [
       "<Figure size 640x480 with 1 Axes>"
      ]
     },
     "metadata": {},
     "output_type": "display_data"
    }
   ],
   "source": [
    "plt.plot(stepi,lossi)"
   ]
  },
  {
   "cell_type": "code",
   "execution_count": 86,
   "id": "dd33c0bc-9a95-41a3-a22d-e93bf70bab7a",
   "metadata": {},
   "outputs": [
    {
     "data": {
      "text/plain": [
       "2.162454843521118"
      ]
     },
     "execution_count": 86,
     "metadata": {},
     "output_type": "execute_result"
    }
   ],
   "source": [
    "emb = C[Xdev]\n",
    "h= torch.tanh(emb.view(-1,30) @W1 +b1)\n",
    "logits = h @W2 +b2\n",
    "loss = F.cross_entropy(logits,Ydev)\n",
    "loss.item()"
   ]
  },
  {
   "cell_type": "code",
   "execution_count": 87,
   "id": "83a994c6-61f7-4715-b7b7-cd8e681aa6d1",
   "metadata": {},
   "outputs": [
    {
     "data": {
      "text/plain": [
       "2.1296632289886475"
      ]
     },
     "execution_count": 87,
     "metadata": {},
     "output_type": "execute_result"
    }
   ],
   "source": [
    "emb = C[Xtr]\n",
    "h= torch.tanh(emb.view(-1,30) @W1 +b1)\n",
    "logits = h @W2 +b2\n",
    "loss = F.cross_entropy(logits,Ytr)\n",
    "loss.item()"
   ]
  },
  {
   "cell_type": "code",
   "execution_count": 90,
   "id": "d51c881e-6ef4-4c43-a271-d71bda3525af",
   "metadata": {},
   "outputs": [
    {
     "data": {
      "image/png": "[encoded data removed]",
      "text/plain": [
       "<Figure size 800x800 with 1 Axes>"
      ]
     },
     "metadata": {},
     "output_type": "display_data"
    }
   ],
   "source": [
    "plt.figure(figsize=(8,8))\n",
    "plt.scatter(C[:,0].data, C[:,1].data, s=200)\n",
    "for i in range(C.shape[0]):\n",
    "    plt.text(C[i,0].item(), C[i,1].item(), itos[i], ha=\"center\", va=\"center\", color='white')\n",
    "plt.grid('minor')"
   ]
  },
  {
   "cell_type": "code",
   "execution_count": 89,
   "id": "af6ac207-f7cf-4899-9de6-2bb9f792a402",
   "metadata": {},
   "outputs": [
    {
     "name": "stdout",
     "output_type": "stream",
     "text": [
      "carmah.\n",
      "americki.\n",
      "kemri.\n",
      "reviyah.\n",
      "cassa.\n",
      "jazhutefamerynt.\n",
      "kaqui.\n",
      "nellarahceniah.\n",
      "kaleigh.\n",
      "ham.\n",
      "join.\n",
      "quinthorline.\n",
      "livani.\n",
      "watelo.\n",
      "dearynn.\n",
      "jace.\n",
      "pirsan.\n",
      "edde.\n",
      "oil.\n",
      "gian.\n"
     ]
    }
   ],
   "source": [
    "# sample from the model\n",
    "g = torch.Generator().manual_seed(2147483647 + 10)\n",
    "block_size=3\n",
    "for _ in range(20):\n",
    "    \n",
    "    out = []\n",
    "    context = [0] * block_size # initialize with all ...\n",
    "    while True:\n",
    "      emb = C[torch.tensor([context])] # (1,block_size,d) do not forget what this mwans\n",
    "      h = torch.tanh(emb.view(1, -1) @ W1 + b1)#taking only one example\n",
    "      logits = h @ W2 + b2\n",
    "      probs = F.softmax(logits, dim=1)#cross_entropy for calculating the loss during traning\n",
    "      ix = torch.multinomial(probs, num_samples=1, generator=g).item()\n",
    "      context = context[1:] + [ix]\n",
    "      out.append(ix)\n",
    "      if ix == 0:\n",
    "        break\n",
    "    \n",
    "    print(''.join(itos[i] for i in out))"
   ]
  },
  {
   "cell_type": "markdown",
   "id": "55d6ae3c-a897-4324-87af-4db6d1f37eb2",
   "metadata": {},
   "source": [
    "### Here I am testing out something"
   ]
  },
  {
   "cell_type": "code",
   "execution_count": 18,
   "id": "63656949-65eb-47c3-89ee-2e3c45f55523",
   "metadata": {},
   "outputs": [
    {
     "name": "stdout",
     "output_type": "stream",
     "text": [
      "tensor([[-0.7813,  0.8181],\n",
      "        [-0.7813,  0.8181],\n",
      "        [-0.7813,  0.8181],\n",
      "        [-0.2061, -1.3544],\n",
      "        [ 0.9611, -1.2574],\n",
      "        [-0.7813,  0.8181],\n",
      "        [-0.7813,  0.8181],\n",
      "        [-0.7813,  0.8181],\n",
      "        [ 0.1089,  0.0507],\n",
      "        [ 2.2165, -1.0179],\n",
      "        [-0.0932, -1.2847],\n",
      "        [-1.3870,  0.2200],\n",
      "        [-0.7813,  0.8181],\n",
      "        [-0.7813,  0.8181],\n",
      "        [-0.7813,  0.8181],\n",
      "        [-0.8281, -0.1751],\n",
      "        [-0.7813,  0.8181],\n",
      "        [-0.7813,  0.8181],\n",
      "        [-0.7813,  0.8181],\n",
      "        [-0.0932, -1.2847],\n",
      "        [-1.5268,  0.6350],\n",
      "        [-0.8281, -0.1751],\n",
      "        [ 1.0312,  0.2687],\n",
      "        [-0.2061, -1.3544],\n",
      "        [ 2.2165, -1.0179],\n",
      "        [-0.7813,  0.8181],\n",
      "        [-0.7813,  0.8181],\n",
      "        [-0.7813,  0.8181],\n",
      "        [-1.5268,  0.6350],\n",
      "        [ 0.1089,  0.0507],\n",
      "        [-0.7241,  0.9141],\n",
      "        [ 0.0594,  0.3370]]) tensor([[-0.7813,  0.8181],\n",
      "        [-0.7813,  0.8181],\n",
      "        [-0.2061, -1.3544],\n",
      "        [ 0.9611, -1.2574],\n",
      "        [ 0.9611, -1.2574],\n",
      "        [-0.7813,  0.8181],\n",
      "        [-0.7813,  0.8181],\n",
      "        [ 0.1089,  0.0507],\n",
      "        [ 2.2165, -1.0179],\n",
      "        [-0.0932, -1.2847],\n",
      "        [-1.3870,  0.2200],\n",
      "        [-0.0932, -1.2847],\n",
      "        [-0.7813,  0.8181],\n",
      "        [-0.7813,  0.8181],\n",
      "        [-0.8281, -0.1751],\n",
      "        [-1.3870,  0.2200],\n",
      "        [-0.7813,  0.8181],\n",
      "        [-0.7813,  0.8181],\n",
      "        [-0.0932, -1.2847],\n",
      "        [-1.5268,  0.6350],\n",
      "        [-0.8281, -0.1751],\n",
      "        [ 1.0312,  0.2687],\n",
      "        [-0.2061, -1.3544],\n",
      "        [ 2.2165, -1.0179],\n",
      "        [ 2.2165, -1.0179],\n",
      "        [-0.7813,  0.8181],\n",
      "        [-0.7813,  0.8181],\n",
      "        [-1.5268,  0.6350],\n",
      "        [ 0.1089,  0.0507],\n",
      "        [-0.7241,  0.9141],\n",
      "        [ 0.0594,  0.3370],\n",
      "        [-0.0932, -1.2847]]) tensor([[-0.7813,  0.8181],\n",
      "        [-0.2061, -1.3544],\n",
      "        [ 0.9611, -1.2574],\n",
      "        [ 0.9611, -1.2574],\n",
      "        [-0.8281, -0.1751],\n",
      "        [-0.7813,  0.8181],\n",
      "        [ 0.1089,  0.0507],\n",
      "        [ 2.2165, -1.0179],\n",
      "        [-0.0932, -1.2847],\n",
      "        [-1.3870,  0.2200],\n",
      "        [-0.0932, -1.2847],\n",
      "        [-0.8281, -0.1751],\n",
      "        [-0.7813,  0.8181],\n",
      "        [-0.8281, -0.1751],\n",
      "        [-1.3870,  0.2200],\n",
      "        [-0.8281, -0.1751],\n",
      "        [-0.7813,  0.8181],\n",
      "        [-0.0932, -1.2847],\n",
      "        [-1.5268,  0.6350],\n",
      "        [-0.8281, -0.1751],\n",
      "        [ 1.0312,  0.2687],\n",
      "        [-0.2061, -1.3544],\n",
      "        [ 2.2165, -1.0179],\n",
      "        [ 2.2165, -1.0179],\n",
      "        [-0.8281, -0.1751],\n",
      "        [-0.7813,  0.8181],\n",
      "        [-1.5268,  0.6350],\n",
      "        [ 0.1089,  0.0507],\n",
      "        [-0.7241,  0.9141],\n",
      "        [ 0.0594,  0.3370],\n",
      "        [-0.0932, -1.2847],\n",
      "        [-0.8281, -0.1751]])\n",
      "tensor([[-0.7813,  0.8181, -0.7813,  0.8181, -0.7813,  0.8181],\n",
      "        [-0.7813,  0.8181, -0.7813,  0.8181, -0.2061, -1.3544],\n",
      "        [-0.7813,  0.8181, -0.2061, -1.3544,  0.9611, -1.2574],\n",
      "        [-0.2061, -1.3544,  0.9611, -1.2574,  0.9611, -1.2574],\n",
      "        [ 0.9611, -1.2574,  0.9611, -1.2574, -0.8281, -0.1751],\n",
      "        [-0.7813,  0.8181, -0.7813,  0.8181, -0.7813,  0.8181],\n",
      "        [-0.7813,  0.8181, -0.7813,  0.8181,  0.1089,  0.0507],\n",
      "        [-0.7813,  0.8181,  0.1089,  0.0507,  2.2165, -1.0179],\n",
      "        [ 0.1089,  0.0507,  2.2165, -1.0179, -0.0932, -1.2847],\n",
      "        [ 2.2165, -1.0179, -0.0932, -1.2847, -1.3870,  0.2200],\n",
      "        [-0.0932, -1.2847, -1.3870,  0.2200, -0.0932, -1.2847],\n",
      "        [-1.3870,  0.2200, -0.0932, -1.2847, -0.8281, -0.1751],\n",
      "        [-0.7813,  0.8181, -0.7813,  0.8181, -0.7813,  0.8181],\n",
      "        [-0.7813,  0.8181, -0.7813,  0.8181, -0.8281, -0.1751],\n",
      "        [-0.7813,  0.8181, -0.8281, -0.1751, -1.3870,  0.2200],\n",
      "        [-0.8281, -0.1751, -1.3870,  0.2200, -0.8281, -0.1751],\n",
      "        [-0.7813,  0.8181, -0.7813,  0.8181, -0.7813,  0.8181],\n",
      "        [-0.7813,  0.8181, -0.7813,  0.8181, -0.0932, -1.2847],\n",
      "        [-0.7813,  0.8181, -0.0932, -1.2847, -1.5268,  0.6350],\n",
      "        [-0.0932, -1.2847, -1.5268,  0.6350, -0.8281, -0.1751],\n",
      "        [-1.5268,  0.6350, -0.8281, -0.1751,  1.0312,  0.2687],\n",
      "        [-0.8281, -0.1751,  1.0312,  0.2687, -0.2061, -1.3544],\n",
      "        [ 1.0312,  0.2687, -0.2061, -1.3544,  2.2165, -1.0179],\n",
      "        [-0.2061, -1.3544,  2.2165, -1.0179,  2.2165, -1.0179],\n",
      "        [ 2.2165, -1.0179,  2.2165, -1.0179, -0.8281, -0.1751],\n",
      "        [-0.7813,  0.8181, -0.7813,  0.8181, -0.7813,  0.8181],\n",
      "        [-0.7813,  0.8181, -0.7813,  0.8181, -1.5268,  0.6350],\n",
      "        [-0.7813,  0.8181, -1.5268,  0.6350,  0.1089,  0.0507],\n",
      "        [-1.5268,  0.6350,  0.1089,  0.0507, -0.7241,  0.9141],\n",
      "        [ 0.1089,  0.0507, -0.7241,  0.9141,  0.0594,  0.3370],\n",
      "        [-0.7241,  0.9141,  0.0594,  0.3370, -0.0932, -1.2847],\n",
      "        [ 0.0594,  0.3370, -0.0932, -1.2847, -0.8281, -0.1751]])\n"
     ]
    },
    {
     "data": {
      "text/plain": [
       "torch.Size([32, 6])"
      ]
     },
     "execution_count": 18,
     "metadata": {},
     "output_type": "execute_result"
    }
   ],
   "source": [
    "'''\n",
    "Now what does my neural network look like?\n",
    "1. I have 6 inputs representing 3 chars because right now my blocksize is 3 chars\n",
    "2. I will have 100 neurons[single layer of hidden layer] in my hidden layer\n",
    "3. My output will be one character encoded with 2 numbers\n",
    "Therefore I will have 100*6 points in my weight matrix\n",
    "100 points of bias and one point of output bias\n",
    "so lets work that out\n",
    "'''\n",
    "W1 =torch.randn((6,100))\n",
    "b1 =torch.randn(100) \n",
    "'''\n",
    "what does my encoded tensor input look like? it has a size of 32*3*2 that is thirty two examples of 3 words which are each represented by 2 numbers\n",
    "I need to reduce the dimension to be of 32*6 so that I can input the 6 numbers as a vector/encoding\n",
    "therefore first let me isolate each letter and get the 2 number representation for it and then concatenate them using the torch.cat function\n",
    "'''\n",
    "print(emb[:,0,:],emb[:,1,:],emb[:,2,:])\n",
    "print(torch.cat([emb[:,0,:],emb[:,1,:],emb[:,2,:]],1))\n",
    "reEmb = torch.cat([emb[:,0,:],emb[:,1,:],emb[:,2,:]],1)\n",
    "reEmb.shape"
   ]
  },
  {
   "cell_type": "code",
   "execution_count": 21,
   "id": "b5050460-8ae5-42d5-89e7-e9d5f70f2227",
   "metadata": {},
   "outputs": [
    {
     "data": {
      "text/plain": [
       "torch.Size([32, 6])"
      ]
     },
     "execution_count": 21,
     "metadata": {},
     "output_type": "execute_result"
    }
   ],
   "source": [
    "'''\n",
    "the above is one way to do it but what if we change our block_size at some time?\n",
    "'''\n",
    "torch.cat(torch.unbind(emb,1),1).shape\n",
    "'''\n",
    "this basically takes all values present at a dimension and unpacks them into one dimension and replaced it in that dimension\n",
    "for eg if we have x y and z dim and we want for there to be just x and y we call unbind on the y dim so that all dimensions within that can be unbound\n",
    "to the y dimension\n",
    "'''"
   ]
  },
  {
   "cell_type": "code",
   "execution_count": 23,
   "id": "87dff473-bf7b-4f41-845f-0e92de09c7cf",
   "metadata": {},
   "outputs": [
    {
     "data": {
      "text/plain": [
       "tensor([[True, True, True, True, True, True],\n",
       "        [True, True, True, True, True, True],\n",
       "        [True, True, True, True, True, True],\n",
       "        [True, True, True, True, True, True],\n",
       "        [True, True, True, True, True, True],\n",
       "        [True, True, True, True, True, True],\n",
       "        [True, True, True, True, True, True],\n",
       "        [True, True, True, True, True, True],\n",
       "        [True, True, True, True, True, True],\n",
       "        [True, True, True, True, True, True],\n",
       "        [True, True, True, True, True, True],\n",
       "        [True, True, True, True, True, True],\n",
       "        [True, True, True, True, True, True],\n",
       "        [True, True, True, True, True, True],\n",
       "        [True, True, True, True, True, True],\n",
       "        [True, True, True, True, True, True],\n",
       "        [True, True, True, True, True, True],\n",
       "        [True, True, True, True, True, True],\n",
       "        [True, True, True, True, True, True],\n",
       "        [True, True, True, True, True, True],\n",
       "        [True, True, True, True, True, True],\n",
       "        [True, True, True, True, True, True],\n",
       "        [True, True, True, True, True, True],\n",
       "        [True, True, True, True, True, True],\n",
       "        [True, True, True, True, True, True],\n",
       "        [True, True, True, True, True, True],\n",
       "        [True, True, True, True, True, True],\n",
       "        [True, True, True, True, True, True],\n",
       "        [True, True, True, True, True, True],\n",
       "        [True, True, True, True, True, True],\n",
       "        [True, True, True, True, True, True],\n",
       "        [True, True, True, True, True, True]])"
      ]
     },
     "execution_count": 23,
     "metadata": {},
     "output_type": "execute_result"
    }
   ],
   "source": [
    "'''\n",
    "but there is an even efficient way to do this. As andrej karpathy says, all tensors are stored in memory as a one dimensional array and the way it\n",
    "gets logcally viewed depends on the view attribute of the tensor so the current view of emb is 32x3x2 but we can change that to be (32x6) but how do we \n",
    "know that torch.cat and manipulating the view are same logcally?\n",
    "'''\n",
    "\n",
    "# emb.view(32,6) == torch.cat([emb[:,0,:],emb[:,1,:],emb[:,2,:]],1)\n",
    "emb.view(32,6) == torch.cat(torch.unbind(emb,1),1)"
   ]
  },
  {
   "cell_type": "markdown",
   "id": "2fb72729-6337-4f43-80f4-cebfcffb7a97",
   "metadata": {
    "jp-MarkdownHeadingCollapsed": true
   },
   "source": [
    "### It ends here"
   ]
  },
  {
   "cell_type": "code",
   "execution_count": null,
   "id": "16c2f251-6f81-4ae2-ace5-2e6a7d0c9fc3",
   "metadata": {},
   "outputs": [],
   "source": []
  }
 ],
 "metadata": {
  "kernelspec": {
   "display_name": "Python 3 (ipykernel)",
   "language": "python",
   "name": "python3"
  },
  "language_info": {
   "codemirror_mode": {
    "name": "ipython",
    "version": 3
   },
   "file_extension": ".py",
   "mimetype": "text/x-python",
   "name": "python",
   "nbconvert_exporter": "python",
   "pygments_lexer": "ipython3",
   "version": "3.9.0"
  }
 },
 "nbformat": 4,
 "nbformat_minor": 5
}
